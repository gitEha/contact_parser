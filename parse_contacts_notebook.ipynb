{
 "cells": [
  {
   "cell_type": "markdown",
   "metadata": {},
   "source": [
    "# Kontaktide parseerimine\n",
    "\n",
    "**Probleem:**\n",
    "Telefoninumbrite ja emailide parssimine tekstist. \n",
    "\n",
    "Antud probleemile on mitu erinevat kontakstist sõltuvat lähenemisviisi, millele on omakorda mitu erinevat lahendust.\n",
    "\n",
    "Alljärgnev vihik seletab ühe lähenemisviisi mõtteprotsessi."
   ]
  },
  {
   "cell_type": "markdown",
   "metadata": {},
   "source": [
    "<hr>\n",
    "**Telefoninumbrid:**\n",
    "\n",
    "Alustan telefoninumbritest, kuna võrreldes emailide parssimisega on see arvatavasti keerulisem.\n",
    "\n",
    "Telefoninumbrite parssimine on keeruline, kuna on olemas sadu erinevaid telefoni numbrite vorme, näiteks:\n",
    "\n",
    "- +37259596129 (Eesti number koos suunakoodiga)\n",
    "- +1-555-123-4567 (USA number koos suunakoodiga ning sidekriipsudega)\n",
    "- +1-465-864-3443 (USA number koos suunakoodiga ning punktidega)\n",
    "- 59596129 (Eesti number ilma suunakoodita)\n",
    "- 1182 (Neljakohaline infoliini telefoni number)\n",
    "- 112 (Kolmekohaline hädaabi number)\n",
    "\n",
    "Peale erinevate vormide võivad kontakt numbrid ka erinevalt kirjutatud olla:\n",
    "\n",
    "- +372 5959 6129\n",
    "- +372 53546329\n",
    "- 37256568830\n",
    "- 56 56 555 3\n",
    "\n",
    "jne.\n",
    "\n",
    "Telefoninumbrid võivad ka konflikteeruda tavaliste arvudega, näiteks \"1182\" võib olla telefoninumber, kuid samas midagi nagu \"2017\" võib olla sama vabalt ka aastaarv.\n",
    "\n",
    "Emailid on kergem probleem, neis on vähem dispersiooni.\n",
    "\n"
   ]
  },
  {
   "cell_type": "markdown",
   "metadata": {},
   "source": [
    "<hr>\n",
    "Alustuseks, võtan .json faili, mis sisaldab erinevaid suunakoode vastavalt riigile\n",
    "Väike tükk .json failist:"
   ]
  },
  {
   "cell_type": "raw",
   "metadata": {},
   "source": [
    "{\n",
    "\"country_code\": \"EE\",\n",
    "\"country_name\": \"Estonia\",\n",
    "\"dialling_code\": \"+372\"\n",
    "},\n",
    "{\n",
    "\"country_code\": \"ET\",\n",
    "\"country_name\": \"Ethiopia\",\n",
    "\"dialling_code\": \"+251\"\n",
    "},\n",
    "{\n",
    "\"country_code\": \"FK\",\n",
    "\"country_name\": \"Falkland Islands\",\n",
    "\"dialling_code\": \"+500\"\n",
    "},\n",
    "{\n",
    "\"country_code\": \"FO\",\n",
    "\"country_name\": \"Faroe Islands\",\n",
    "\"dialling_code\": \"+298\"\n",
    "},"
   ]
  },
  {
   "cell_type": "markdown",
   "metadata": {},
   "source": [
    "Antud failis on hästi välja märgitud riigi kahekohaline tähtkood, riigi nimi ning ka suunakood.\n",
    "\n",
    "Peale seda alustan Pythoni faili:"
   ]
  },
  {
   "cell_type": "code",
   "execution_count": 14,
   "metadata": {},
   "outputs": [
    {
     "name": "stdout",
     "output_type": "stream",
     "text": [
      "{'country_code': 'AF', 'country_name': 'Afghanistan', 'dialling_code': '+93'}\n"
     ]
    }
   ],
   "source": [
    "# Importin vajalikud teegid \n",
    "\n",
    "import sys\n",
    "import os\n",
    "import re\n",
    "import json\n",
    "\n",
    "#Laen .json faili Python dictionary'sse\n",
    "\n",
    "AREA_CODES = json.load(open('path_to_area_codes.json'))\n",
    "\n",
    "print(AREA_CODES['countryCodes'][0])"
   ]
  },
  {
   "cell_type": "markdown",
   "metadata": {},
   "source": [
    "Nüüd oleks vaja mingeid meetodeid, läbi mille tekstist andmeid leida."
   ]
  },
  {
   "cell_type": "code",
   "execution_count": 23,
   "metadata": {},
   "outputs": [],
   "source": [
    "# Loon klassi, nimega ParseContacts\n",
    "\n",
    "class ParseContacts():\n",
    "    '''\n",
    "    A class that takes in an input of area codes and text and parses out contact addresses (emails, phone numbers)\n",
    "    from the given text.\n",
    "\n",
    "    Arguments:\n",
    "    area_codes -- A dict of country names, area codes, and country codes.\n",
    "\n",
    "    text -- A string of text to parse the contacts from\n",
    "    '''\n",
    "    \n",
    "    # Klassi konstruktor, võtab argumentideks ala koodide informatsiooni dicti ning text stringi\n",
    "    def __init__(self, area_codes, text):\n",
    "        self.area_codes = area_codes\n",
    "        self.text = text\n",
    "        \n",
    "        # Leia tekstist numbrid find_numbers_from_text funktsiooniga.\n",
    "        self.numbers = self.find_numbers_from_text(self.text, area_codes)\n",
    "        # Leia tekstist emailid find_emails funktsiooniga.\n",
    "        self.emails = self.find_emails(self.text)\n",
    "        # Lisa emailid ja numbrid dictionary'sse\n",
    "        self.contacts = {'Phone_numbers': self.numbers, 'Emails': self.emails }\n",
    "        \n",
    "    # Kirjutame nüüd esimese funktsiooni, mis tegeleb numbrite parssimisega:    \n",
    "    def find_numbers_from_text(self, text, area_codes):\n",
    "        '''\n",
    "        Takes in an input string and parses out all the phone numbers it finds.\n",
    "        Arguments:\n",
    "        text -- A string of text to parse phone numbers from.\n",
    "        Returns:\n",
    "        numbers -- A list containing the numbers found.\n",
    "        '''\n",
    "        # Loon tühja listi, kuhu hiljem lisan kõik telefoninumbrid mis tekstist leidsin\n",
    "        numbers_to_process = []\n",
    "        \n",
    "        # Kasutan regex'it, et leida tekstist telefoninumbreid\n",
    "        pattern = re.compile(r'(?:\\b|[\\+])\\d{1,4}[-. ]?\\d{2,4}(?:[-. ]?\\d{1,4}\\b)+')\n",
    "        \n",
    "        # Loopin üle kõikide leitud numbrite tekstis ning eemaldan tühikud ning punktid\n",
    "        to_strip = str.maketrans(\"\", \"\", \" -.\")\n",
    "        for n in pattern.findall(text):\n",
    "            numbers_to_process.append(n.translate(to_strip)) \n",
    "        \n",
    "        # Kutsume meetodi find_area_code_matches\n",
    "        numbers = self.find_area_code_matches(numbers_to_process, area_codes)\n",
    "        \n",
    "        return numbers\n",
    "    \n",
    "    #Nüüd kirjutame meetodi, mis leiab suunakoodid teatud numbritest ning lisab kõik numbrid dictionary'sse\n",
    "    @staticmethod\n",
    "    def find_area_code_matches(numbers, area_codes):\n",
    "        '''\n",
    "        Takes in phone numbers and area codes and returns a list of dicts of details about a given number.\n",
    "        if a given number doesn't find an area code to match it, it just gets added with the extra details being empty.\n",
    "\n",
    "        Arguments:\n",
    "        numbers -- A list of phone numbers in strings\n",
    "\n",
    "        area_codes -- A dict of area codes and their corresponding country and country code.\n",
    "\n",
    "        Returns:\n",
    "        number_list -- A list containing dictionaries filled with detailed, formatted, sorted details for\n",
    "                       each given phone number.\n",
    "        '''\n",
    "        \n",
    "        # Loon tühja listi, kuhu hiljem lisan kõik sisestatud numbrid kindla vormiga.\n",
    "        number_list = []\n",
    "\n",
    "        for number in numbers:\n",
    "            for country in area_codes['countryCodes']:\n",
    "                pattern = re.compile('\\\\' + country['dialling_code'])                \n",
    "                for match in pattern.findall(number):\n",
    "                    # Lisan sulud ümber suunakoodi igale leitud suunakoodiga paarile\n",
    "                    bracketed_num = number.replace(match, '(' + match + ')')\n",
    "                    number_list.append({'number': bracketed_num, 'match': match,\n",
    "                                        'country': country['country_name'], 'country_code': country['country_code']})\n",
    "                    # So we could check if the number is already in the list for non-matched numbers.\n",
    "                    number = bracketed_num\n",
    "            \n",
    "            # Kui ei leindud suunakoodi numbrile\n",
    "            if number not in [x['number'] for x in number_list]:\n",
    "                number_list.append(\n",
    "                    {'number': number, 'match': '', 'country': '', 'country_code': ''})\n",
    "        \n",
    "        # Sorteeri kahanevalt numbri pikkuse järgi.\n",
    "        number_list = sorted(\n",
    "            number_list, key=lambda k: len(k['number']), reverse=True)\n",
    "                \n",
    "        return number_list\n",
    "         \n",
    "    # Emailide parssimise funktsioon\n",
    "    @staticmethod\n",
    "    def find_emails(text):\n",
    "        '''\n",
    "        Find all the emails in the text.\n",
    "\n",
    "        Arguments:\n",
    "        text -- A string of text containing text to parse emails from.\n",
    "\n",
    "        Returns:\n",
    "        emails -- a list containing found emails from the input text.\n",
    "        '''\n",
    "        \n",
    "        # Otsin emaile tekstist regexiga.\n",
    "        pattern = re.compile(r'[^\\s@]+@[^@.]+[.][a-zA-Z]{1,10}')\n",
    "        emails = pattern.findall(text)\n",
    "\n",
    "        return emails"
   ]
  },
  {
   "cell_type": "code",
   "execution_count": 27,
   "metadata": {},
   "outputs": [
    {
     "name": "stdout",
     "output_type": "stream",
     "text": [
      "{'number': '(+372)59596129', 'match': '+372', 'country': 'Estonia', 'country_code': 'EE'}\n",
      "{'number': '(+372)53546329', 'match': '+372', 'country': 'Estonia', 'country_code': 'EE'}\n",
      "{'number': '(+1)5551234567', 'match': '+1', 'country': 'United States', 'country_code': 'US'}\n",
      "{'number': '65656660', 'match': '', 'country': '', 'country_code': ''}\n",
      "{'number': '56565550', 'match': '', 'country': '', 'country_code': ''}\n",
      "{'number': '1188', 'match': '', 'country': '', 'country_code': ''}\n",
      "['andrus.rähnik@mail.ee', 'емаил-аддрс@яндекс.c', 'मराठी@yahoo.com']\n"
     ]
    }
   ],
   "source": [
    "TEXT = '''\n",
    "    You can contact us through these numbers: +372 5959 6129, +372 53546329.\n",
    "\tIf you cant reach either of those, try dialing our landline: 65656660\n",
    "    Alternatively, you can call our friend: 56565550, or ask for help at the info-line: 1188.\n",
    "    \n",
    "\tThe US line is +1-555-123-4567.\n",
    "    \n",
    "    If you prefer to contact us via email, you can contact us at andrus.rähnik@mail.ee, as well as емаил-аддрс@яндекс.c, or at मराठी@yahoo.com'''\n",
    "\n",
    "FoundContacts = ParseContacts(AREA_CODES, TEXT)\n",
    "\n",
    "[print(i) for i in [x for x in FoundContacts.contacts['Phone_numbers']]]\n",
    "print(FoundContacts.contacts['Emails'])"
   ]
  },
  {
   "cell_type": "markdown",
   "metadata": {},
   "source": [
    "Tekstis olevad numbrid ning emailid on leitud"
   ]
  },
  {
   "cell_type": "markdown",
   "metadata": {},
   "source": [
    "<hr>\n",
    "\n",
    "## Muud meetodid\n",
    "\n",
    "Üleval olev meetod küll töötab, kuid vastavalt vajadustele, on võimalik muuta selle funktsionaalsust.\n",
    "\n",
    "Võib-olla ei ole soovi otsida näiteks nelja kohalisi numbried, jne.\n",
    "\n",
    "Samuti sai leitud ka emailid isegi siis, kui emailis olid võõrtähed, või alternatiivsed domeenid.\n",
    "Kuid ka sedagi saab muuta vastavalt vajadusele. (Näiteks kui on vaja parssida ka emaile, millel polegi TLD'd, näiteks andrus.rähnik@mail, jne)\n",
    "\n",
    "<hr>\n",
    "Kontaktid sai leitud regex'i põhjal, kuid see pole ainuke viis, kuidas seda teha.\n",
    "Näiteks on olemas erinevad teegid telefoninumbrite valideerimiseks/parssimiseks, näiteks:\n",
    "\n",
    "- https://pypi.python.org/pypi/phonenumbers\n",
    "- https://github.com/daviddrysdale/python-phonenumbers (Google libphonenumber library)\n",
    "\n"
   ]
  },
  {
   "cell_type": "code",
   "execution_count": null,
   "metadata": {},
   "outputs": [],
   "source": []
  }
 ],
 "metadata": {
  "kernelspec": {
   "display_name": "Python 3",
   "language": "python",
   "name": "python3"
  },
  "language_info": {
   "codemirror_mode": {
    "name": "ipython",
    "version": 3
   },
   "file_extension": ".py",
   "mimetype": "text/x-python",
   "name": "python",
   "nbconvert_exporter": "python",
   "pygments_lexer": "ipython3",
   "version": "3.6.2"
  }
 },
 "nbformat": 4,
 "nbformat_minor": 2
}
